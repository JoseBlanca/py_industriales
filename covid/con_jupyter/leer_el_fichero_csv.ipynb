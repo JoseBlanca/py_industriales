{
 "cells": [
  {
   "cell_type": "markdown",
   "metadata": {},
   "source": [
    "# Lectura de un fichero csv\n",
    "\n",
    "Vamos a ver distintas formas de abrir un fichero csv utilizando Python.\n",
    "\n",
    "Conocimientos previos de Python recomendables:\n",
    "\n",
    "  - [Tipos y variables](../python/tipos_y_variables.ipynb)\n",
    "  - [Cadenas de texto](../python/cadenas_de_texto.ipynb)\n",
    "  - [Booleanos](../python/booleanos.ipynb)\n",
    "  - [Control de flujo](../python/control_de_flujo.ipynb)\n",
    "  - [Bloques e indentación](../python/bloques_e_indentacion.ipynb)\n",
    "  - [Listas y secuencias](../python/secuencias.ipynb)\n",
    "  - [Diccionarios](../python/diccionarios.ipynb)\n",
    "  - [Ficheros](../python/ficheros.ipynb)\n",
    "  - [Modulos](python/modulos.ipynb)\n",
    "\n",
    "Conocimientos previos de análisis de datos en Python recomendables:\n",
    "\n",
    "  - [Herramientas](../analisis/herramientas.ipynb)\n",
    "  - [Numpy](../analisis/numpy.ipynb)\n",
    "  - [Pandas](../analisis/pandas.ipynb)\n"
   ]
  },
  {
   "cell_type": "markdown",
   "metadata": {},
   "source": [
    "# Descargar un fichero"
   ]
  },
  {
   "cell_type": "code",
   "execution_count": null,
   "metadata": {},
   "outputs": [],
   "source": [
    "import requests\n",
    "from pathlib import Path\n",
    "\n",
    "# get the data\n",
    "url = 'https://cnecovid.isciii.es/covid19/resources/casos_hosp_uci_def_sexo_edad_provres.csv'\n",
    "\n",
    "# path in which we will download the data\n",
    "data_dir = Path('..') / 'downloaded_data'\n",
    "data_dir.resolve()\n",
    "data_dir.mkdir(exist_ok=True)\n",
    "\n",
    "fname = url.split('/')[-1]\n",
    "covid_csv_path = data_dir / fname\n",
    "\n",
    "if not covid_csv_path.exists():\n",
    "    # download the data\n",
    "    response = requests.get(url)\n",
    "    # check everything went fine\n",
    "    assert response.ok\n",
    "\n",
    "    # save the data in a file\n",
    "    fhand = open(covid_csv_path, 'wb')\n",
    "    fhand.write(response.content)\n",
    "    fhand.close()\n"
   ]
  },
  {
   "cell_type": "markdown",
   "metadata": {},
   "source": [
    "# Leyendo un fichero"
   ]
  },
  {
   "cell_type": "code",
   "execution_count": null,
   "metadata": {},
   "outputs": [],
   "source": [
    "from pathlib import Path\n",
    "\n",
    "covid_csv_path = Path('..') / 'downloaded_data' / 'casos_hosp_uci_def_sexo_edad_provres.csv'\n",
    "\n",
    "fhand = covid_csv_path.open('rt')\n",
    "\n",
    "sep = ','\n",
    "fields = None\n",
    "records = []\n",
    "for line in fhand:\n",
    "    items = line.strip().split(sep)\n",
    "\n",
    "    if fields is None:\n",
    "        fields = items\n",
    "        continue\n",
    "        \n",
    "    record = dict(zip(fields, items))\n",
    "    records.append(record)\n",
    "\n",
    "print(len(records))\n",
    "first_record = records[0]\n",
    "print(first_record)\n",
    "print(first_record['grupo_edad'])"
   ]
  },
  {
   "cell_type": "markdown",
   "metadata": {},
   "source": [
    "# Leyendo un fichero usando el módulo csv"
   ]
  },
  {
   "cell_type": "code",
   "execution_count": null,
   "metadata": {},
   "outputs": [],
   "source": [
    "from pathlib import Path\n",
    "import csv\n",
    "\n",
    "covid_csv_path = Path('..') / 'downloaded_data' / 'casos_hosp_uci_def_sexo_edad_provres.csv'\n",
    "fhand = covid_csv_path.open('rt')\n",
    "\n",
    "sep = ','\n",
    "reader = csv.DictReader(fhand, delimiter=sep)\n",
    "print(reader.fieldnames)\n",
    "records = list(reader)\n",
    "print(len(records))\n",
    "first_record = records[0]\n",
    "print(first_record)\n",
    "print(first_record['grupo_edad'])"
   ]
  },
  {
   "cell_type": "markdown",
   "metadata": {},
   "source": [
    "# Leyendo un fichero utilizando pandas"
   ]
  },
  {
   "cell_type": "code",
   "execution_count": null,
   "metadata": {},
   "outputs": [],
   "source": [
    "from pathlib import Path\n",
    "import pandas\n",
    "\n",
    "covid_csv_path = Path('..') / 'downloaded_data' / 'casos_hosp_uci_def_sexo_edad_provres.csv'\n",
    "dframe = pandas.read_csv(covid_csv_path, delimiter=',', parse_dates=['fecha'], index_col='fecha')\n",
    "print(dframe)"
   ]
  },
  {
   "cell_type": "markdown",
   "metadata": {},
   "source": [
    "Con pandas incluso se puede cargar el csv directamente desde la web."
   ]
  },
  {
   "cell_type": "code",
   "execution_count": null,
   "metadata": {},
   "outputs": [],
   "source": [
    "import pandas\n",
    "\n",
    "url = 'https://cnecovid.isciii.es/covid19/resources/casos_hosp_uci_def_sexo_edad_provres.csv'\n",
    "dframe = pandas.read_csv(url, delimiter=',', parse_dates=['fecha'], index_col='fecha')\n",
    "print(dframe.shape)\n",
    "dframe"
   ]
  }
 ],
 "metadata": {
  "kernelspec": {
   "display_name": "Python 3",
   "language": "python",
   "name": "python3"
  },
  "language_info": {
   "codemirror_mode": {
    "name": "ipython",
    "version": 3
   },
   "file_extension": ".py",
   "mimetype": "text/x-python",
   "name": "python",
   "nbconvert_exporter": "python",
   "pygments_lexer": "ipython3",
   "version": "3.10.2"
  }
 },
 "nbformat": 4,
 "nbformat_minor": 4
}
