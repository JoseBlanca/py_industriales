{
 "cells": [
  {
   "cell_type": "markdown",
   "metadata": {},
   "source": [
    "# Lectura de un fichero csv\n",
    "\n",
    "Vamos a ver distintas formas de abrir un fichero csv utilizando Python.\n",
    "\n",
    "Conocimientos previos de Python recomendables:\n",
    "\n",
    "  - [Tipos y variables](../python/tipos_y_variables.ipynb)\n",
    "  - [Cadenas de texto](../python/cadenas_de_texto.ipynb)\n",
    "  - [Booleanos](../python/booleanos.ipynb)\n",
    "  - [Control de flujo](../python/control_de_flujo.ipynb)\n",
    "  - [Bloques e indentación](../python/bloques_e_indentacion.ipynb)\n",
    "  - [Listas y secuencias](../python/secuencias.ipynb)\n",
    "  - [Diccionarios](../python/diccionarios.ipynb)\n",
    "  - [Ficheros](../python/ficheros.ipynb)\n",
    "  - [Modulos](python/modulos.ipynb)\n",
    "\n",
    "Conocimientos previos de análisis de datos en Python recomendables:\n",
    "\n",
    "  - [Herramientas](../analisis/herramientas.ipynb)\n",
    "  - [Numpy](../analisis/numpy.ipynb)\n",
    "  - [Pandas](../analisis/pandas.ipynb)\n"
   ]
  },
  {
   "cell_type": "markdown",
   "metadata": {},
   "source": [
    "# Leyendo un fichero"
   ]
  },
  {
   "cell_type": "code",
   "execution_count": 10,
   "metadata": {},
   "outputs": [
    {
     "name": "stdout",
     "output_type": "stream",
     "text": [
      "702780\n",
      "{'provincia_iso': 'A', 'sexo': 'H', 'grupo_edad': '0-9', 'fecha': '2020-01-01', 'num_casos': '0', 'num_hosp': '0', 'num_uci': '0', 'num_def': '0'}\n",
      "0-9\n"
     ]
    }
   ],
   "source": [
    "from pathlib import Path\n",
    "\n",
    "path = Path('/home/jose/devel/covid_practice/cache/2021-3-23-casos_hosp_uci_def_sexo_edad_provres.csv')\n",
    "fhand = path.open('rt')\n",
    "\n",
    "sep = ','\n",
    "fields = None\n",
    "records = []\n",
    "for line in fhand:\n",
    "    items = line.strip().split(sep)\n",
    "\n",
    "    if fields is None:\n",
    "        fields = items\n",
    "        continue\n",
    "        \n",
    "    record = dict(zip(fields, items))\n",
    "    records.append(record)\n",
    "\n",
    "print(len(records))\n",
    "first_record = records[0]\n",
    "print(first_record)\n",
    "print(first_record['grupo_edad'])"
   ]
  },
  {
   "cell_type": "markdown",
   "metadata": {},
   "source": [
    "# Leyendo un fichero usando el módulo csv"
   ]
  },
  {
   "cell_type": "code",
   "execution_count": 14,
   "metadata": {},
   "outputs": [
    {
     "name": "stdout",
     "output_type": "stream",
     "text": [
      "['provincia_iso', 'sexo', 'grupo_edad', 'fecha', 'num_casos', 'num_hosp', 'num_uci', 'num_def']\n",
      "702780\n",
      "{'provincia_iso': 'A', 'sexo': 'H', 'grupo_edad': '0-9', 'fecha': '2020-01-01', 'num_casos': '0', 'num_hosp': '0', 'num_uci': '0', 'num_def': '0'}\n",
      "0-9\n"
     ]
    }
   ],
   "source": [
    "from pathlib import Path\n",
    "import csv\n",
    "\n",
    "path = Path('/home/jose/devel/covid_practice/cache/2021-3-23-casos_hosp_uci_def_sexo_edad_provres.csv')\n",
    "fhand = path.open('rt')\n",
    "\n",
    "sep = ','\n",
    "reader = csv.DictReader(fhand, delimiter=sep)\n",
    "print(reader.fieldnames)\n",
    "records = list(reader)\n",
    "print(len(records))\n",
    "first_record = records[0]\n",
    "print(first_record)\n",
    "print(first_record['grupo_edad'])"
   ]
  },
  {
   "cell_type": "markdown",
   "metadata": {},
   "source": [
    "# Leyendo un fichero utilizando pandas"
   ]
  },
  {
   "cell_type": "code",
   "execution_count": 15,
   "metadata": {},
   "outputs": [
    {
     "name": "stdout",
     "output_type": "stream",
     "text": [
      "       provincia_iso sexo grupo_edad       fecha  num_casos  num_hosp  \\\n",
      "0                  A    H        0-9  2020-01-01          0         0   \n",
      "1                  A    H      10-19  2020-01-01          0         0   \n",
      "2                  A    H      20-29  2020-01-01          0         0   \n",
      "3                  A    H      30-39  2020-01-01          0         0   \n",
      "4                  A    H      40-49  2020-01-01          0         0   \n",
      "...              ...  ...        ...         ...        ...       ...   \n",
      "702775            ZA   NC      50-59  2021-03-17          0         0   \n",
      "702776            ZA   NC      60-69  2021-03-17          0         0   \n",
      "702777            ZA   NC      70-79  2021-03-17          0         0   \n",
      "702778            ZA   NC        80+  2021-03-17          0         0   \n",
      "702779            ZA   NC         NC  2021-03-17          0         0   \n",
      "\n",
      "        num_uci  num_def  \n",
      "0             0        0  \n",
      "1             0        0  \n",
      "2             0        0  \n",
      "3             0        0  \n",
      "4             0        0  \n",
      "...         ...      ...  \n",
      "702775        0        0  \n",
      "702776        0        0  \n",
      "702777        0        0  \n",
      "702778        0        0  \n",
      "702779        0        0  \n",
      "\n",
      "[702780 rows x 8 columns]\n"
     ]
    }
   ],
   "source": [
    "from pathlib import Path\n",
    "import pandas\n",
    "\n",
    "path = Path('/home/jose/devel/covid_practice/cache/2021-3-23-casos_hosp_uci_def_sexo_edad_provres.csv')\n",
    "sep = ','\n",
    "dframe = pandas.read_csv(path, delimiter=',')\n",
    "print(dframe)"
   ]
  },
  {
   "cell_type": "code",
   "execution_count": null,
   "metadata": {},
   "outputs": [],
   "source": []
  }
 ],
 "metadata": {
  "kernelspec": {
   "display_name": "Python 3",
   "language": "python",
   "name": "python3"
  },
  "language_info": {
   "codemirror_mode": {
    "name": "ipython",
    "version": 3
   },
   "file_extension": ".py",
   "mimetype": "text/x-python",
   "name": "python",
   "nbconvert_exporter": "python",
   "pygments_lexer": "ipython3",
   "version": "3.8.5"
  }
 },
 "nbformat": 4,
 "nbformat_minor": 4
}
