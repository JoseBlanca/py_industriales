{
 "cells": [
  {
   "cell_type": "markdown",
   "metadata": {},
   "source": [
    "# Análisis de los datos covid con pandas\n",
    "\n",
    "Conocimientos previos de Python recomendables:\n",
    "\n",
    "  - [Booleanos](../../python/booleanos.ipynb)\n",
    "  - [Control de flujo](../../python/control_de_flujo.ipynb)\n",
    "  - [Bloques e indentación](../../python/bloques_e_indentacion.ipynb)\n",
    "  - [Listas y secuencias](../../python/secuencias.ipynb)\n",
    "  - [Diccionarios](../../python/diccionarios.ipynb)\n",
    "  - [Modulos](../../python/modulos.ipynb)\n",
    "  - [funciones](../../python/funciones.ipynb)\n",
    "  - [variables](../../python/tipos_y_variables.ipynb)\n",
    "  \n",
    "Conocimientos previos de análisis de datos en Python recomendables:\n",
    "\n",
    "  - [Herramientas](../../analisis/herramientas.ipynb)\n",
    "  - [Numpy](../../analisis/numpy.ipynb)\n",
    "  - [Pandas](../../analisis/pandas.ipynb)\n",
    "  - [Matplotlib](../../analisis/matplotlib.ipynb)\n",
    "\n",
    "# Lectura del fichero\n"
   ]
  },
  {
   "cell_type": "code",
   "execution_count": null,
   "metadata": {},
   "outputs": [],
   "source": [
    "from pathlib import Path\n",
    "import pandas\n",
    "\n",
    "covid_csv_path = Path('..') / 'downloaded_data' / 'casos_hosp_uci_def_sexo_edad_provres.csv'\n",
    "dframe = pandas.read_csv(covid_csv_path, delimiter=',', parse_dates=['fecha'], index_col='fecha')\n",
    "print(dframe.shape)\n",
    "dframe"
   ]
  },
  {
   "cell_type": "markdown",
   "metadata": {},
   "source": [
    "# Evolución a lo largo del tiempo\n",
    "\n",
    "Calcula como han variado a lo largo del tiempo el número de casos, hospitalizaciones, ingresos en UCI y defunciones."
   ]
  },
  {
   "cell_type": "code",
   "execution_count": null,
   "metadata": {},
   "outputs": [],
   "source": [
    "dframe_por_fecha = dframe.groupby(by='fecha').sum()\n",
    "dframe_por_fecha"
   ]
  },
  {
   "cell_type": "markdown",
   "metadata": {},
   "source": [
    "# Gráficas con pandas\n",
    "\n",
    "Dibuja, utilizando pandas, los datos anteriores."
   ]
  },
  {
   "cell_type": "code",
   "execution_count": null,
   "metadata": {},
   "outputs": [],
   "source": [
    "dframe_por_fecha.plot(y='num_casos')"
   ]
  },
  {
   "cell_type": "code",
   "execution_count": null,
   "metadata": {},
   "outputs": [],
   "source": [
    "dframe_por_fecha.plot(y='num_def')"
   ]
  },
  {
   "cell_type": "markdown",
   "metadata": {},
   "source": [
    "# Gráficas con matplotlib"
   ]
  },
  {
   "cell_type": "code",
   "execution_count": null,
   "metadata": {},
   "outputs": [],
   "source": [
    "from matplotlib import pyplot as plt\n",
    "\n",
    "plt.plot(dframe_por_fecha.index, dframe_por_fecha['num_casos'])"
   ]
  },
  {
   "cell_type": "markdown",
   "metadata": {},
   "source": [
    "# Suma de datos semanales\n",
    "\n",
    "Los datos diarios tienen bastante ruido debido a distintos factores. Obtén los datos semanales para todos los parámetros."
   ]
  },
  {
   "cell_type": "code",
   "execution_count": null,
   "metadata": {},
   "outputs": [],
   "source": [
    "dframe_semanal = dframe.resample(\"7D\").sum()\n",
    "dframe_semanal.plot(y='num_casos')"
   ]
  },
  {
   "cell_type": "markdown",
   "metadata": {},
   "source": [
    "# Selección de una ola\n",
    "\n",
    "Calcula los datos para una sola ola.\n",
    "\n",
    "Como orientación podrías utilizar los siguientes límites entre olas."
   ]
  },
  {
   "cell_type": "code",
   "execution_count": null,
   "metadata": {},
   "outputs": [],
   "source": [
    "from datetime import datetime\n",
    "WAVE_LIMITS = [\n",
    "    datetime(2020, 2, 1),\n",
    "    datetime(2020, 7, 15),\n",
    "    datetime(2020, 10, 11),\n",
    "    datetime(2020, 12, 20),\n",
    "    datetime(2021, 6, 18),\n",
    "    datetime(2021, 10, 31),\n",
    "    datetime(2022, 3, 10),\n",
    "]"
   ]
  },
  {
   "cell_type": "code",
   "execution_count": null,
   "metadata": {},
   "outputs": [],
   "source": [
    "from datetime import datetime\n",
    "date0 = datetime(year=2020, month=12, day=1)\n",
    "date1 = datetime(year=2021, month=3, day=1)\n",
    "# seleccionamos indexando por fecha\n",
    "tercera_ola = dframe.loc[date0:date1, :]\n",
    "tercera_ola.resample('7D').sum().plot(y='num_casos')"
   ]
  },
  {
   "cell_type": "markdown",
   "metadata": {},
   "source": [
    "# Análisis de una provincia\n",
    "\n",
    "Determina cuáles son las provincias presentes en el DataFrame y dibuja los datos por provincia."
   ]
  },
  {
   "cell_type": "code",
   "execution_count": null,
   "metadata": {},
   "outputs": [],
   "source": [
    "print(dframe['provincia_iso'].unique())\n",
    "#filtramos por provincia\n",
    "valencia = dframe[dframe['provincia_iso']=='V']\n",
    "valencia = valencia.resample('7D').sum()\n",
    "valencia.plot(y='num_def')"
   ]
  },
  {
   "cell_type": "markdown",
   "metadata": {},
   "source": [
    "# Selección de un sexo o grupo de edad"
   ]
  },
  {
   "cell_type": "code",
   "execution_count": null,
   "metadata": {},
   "outputs": [],
   "source": [
    "print(dframe['grupo_edad'].unique())\n",
    "ninyos = dframe[dframe['grupo_edad']=='0-9']\n",
    "ninyos = valencia.resample('7D').sum()\n",
    "ninyos.plot(y='num_hosp')"
   ]
  },
  {
   "cell_type": "markdown",
   "metadata": {},
   "source": [
    "# Comparación por provincias"
   ]
  },
  {
   "cell_type": "code",
   "execution_count": null,
   "metadata": {},
   "outputs": [],
   "source": [
    "casos_por_provincia = dframe.groupby(by='provincia_iso').sum()\n",
    "casos_por_provincia['num_def'].plot.bar()"
   ]
  },
  {
   "cell_type": "markdown",
   "metadata": {},
   "source": [
    "# Comparación por olas"
   ]
  },
  {
   "cell_type": "code",
   "execution_count": null,
   "metadata": {},
   "outputs": [],
   "source": [
    "limites_entre_olas = [\n",
    "    datetime(2020, 7, 15),\n",
    "    datetime(2020, 10, 11),\n",
    "    datetime(2020, 12, 20),\n",
    "    datetime(2021, 6, 18),\n",
    "    datetime(2021, 10, 31),\n",
    "    datetime.now(),\n",
    "]\n",
    "\n",
    "def calcular_num_ola_dada_fecha(fecha):\n",
    "    for idx, limite in enumerate(limites_entre_olas):\n",
    "        if fecha <= limite:\n",
    "            return idx + 1\n",
    "\n",
    "num_ola_para_fechas = [calcular_num_ola_dada_fecha(fecha) for fecha in dframe.index]\n",
    "datos_por_olas = dframe.groupby(by=num_ola_para_fechas).sum()\n",
    "axes_suplot = datos_por_olas['num_hosp'].plot.bar()\n",
    "axes_suplot.set_ylabel('Num. hospitalizaciones')\n",
    "axes_suplot.set_xlabel('ola')\n"
   ]
  }
 ],
 "metadata": {
  "kernelspec": {
   "display_name": "Python 3",
   "language": "python",
   "name": "python3"
  },
  "language_info": {
   "codemirror_mode": {
    "name": "ipython",
    "version": 3
   },
   "file_extension": ".py",
   "mimetype": "text/x-python",
   "name": "python",
   "nbconvert_exporter": "python",
   "pygments_lexer": "ipython3",
   "version": "3.12.2"
  }
 },
 "nbformat": 4,
 "nbformat_minor": 4
}
