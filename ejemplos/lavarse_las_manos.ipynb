{
 "cells": [
  {
   "cell_type": "markdown",
   "metadata": {},
   "source": [
    "# La importancia de lavarse las manos\n",
    "--------"
   ]
  },
  {
   "attachments": {},
   "cell_type": "markdown",
   "metadata": {},
   "source": [
    "# 1. El Dr Ignaz Semmelweis\n",
    "<img style=\"float: left;\" src=\"https://upload.wikimedia.org/wikipedia/commons/thumb/c/c0/Ignaz_Semmelweis.jpg/300px-Ignaz_Semmelweis.jpg\">\n",
    "Este es el Dr Ignaz Semmelweis (1818-1865), médico húngaro reconocido hoy como el creador de los procedimientos antisépticos.\n",
    "En los primeros años de la década de 1840, el **10% de las mujeres** que daban a luz en el hospital General de Viena **morían después del parto**. Al Dr Semmelweis se le conoce también como el \"salvador de madres\" pues descubrió que la incidencia de la **sepsis puerperal** (o \"[fiebre del parto](https://es.wikipedia.org/wiki/Sepsis_puerperal)\") podía disminuirse drásticamente mediante la **desinfección de las manos**. A pesar de varias publicaciones difundiendo sus resultados y demostrando que el lavado profundo de las manos de los médicos reducía significativamente la mortalidad a menos del 1%, sus observaciones entraban **en conflicto con la opinión de los popes** de su tiempo y sus ideas fueron rechazadas. Algunos médicos se sintieron ofendidos por la sugerencia de que ellos eran responsables de la muerte de las embarazadas por no lavar adecuadamente sus manos antes de atender a sus pacientes. Las recomendaciones de Semmelweis solo fueron aceptadas después de su muerte, cuando **Louis Pasteur** confirmó la teoría de los gérmenes como causantes de las infecciones (Fuente: [Wikipedia](https://es.wikipedia.org/wiki/Ignác_Semmelweis)).\n",
    "      \n",
    "En este cuaderno vamos a analizar los datos que llevan a Semmelweis a la conclusión de la importancia de lavarse las manos. Empezaremos observando los datos que hacen que Semmelweis reconozca que algo va mal en el Hospital de Viena. \n",
    "\n",
    "El tutorial ha sido adaptado a partir de un tutorial de [Kaggle](https://www.kaggle.com/datasets/arijit75/survey-data?resource=download) por José Díe."
   ]
  },
  {
   "cell_type": "code",
   "execution_count": null,
   "metadata": {
    "collapsed": false
   },
   "outputs": [],
   "source": [
    "# Importar pandas\n",
    "import pandas as pd\n",
    "\n",
    "# Leer el dataset muertes_xclinica.csv y asignarlo a la variable muertes\n",
    "muertes = pd.read_csv('../datos_ejemplo/muertes_xclinica.csv')\n",
    "\n",
    "\n",
    "# Imprimir muertes\n",
    "print(muertes)"
   ]
  },
  {
   "cell_type": "markdown",
   "metadata": {},
   "source": [
    "# 2. El número alarmante de muertes\n",
    "La tabla anterior muestra el número de mujeres que dieron a luz en las dos clínicas del Hospital General de Viena\n",
    "durante los años 1841 a 1846. También se aprecia que dar a luz era una actividad muy peligrosa. Un número alarmante de mujeres morían como resultado del parto, la mayoría de ellas por sepsis puerperal. \n",
    "  \n",
    "Esto puede verse de forma más clara si calculamos la proporción de muertes sobre el número de partos. "
   ]
  },
  {
   "cell_type": "code",
   "execution_count": null,
   "metadata": {
    "collapsed": false
   },
   "outputs": [],
   "source": [
    "# Calcular la proporción de muertes y asignarlo a una nueva columna (Prop_muertes).\n",
    "muertes[\"Prop_muertes\"] = muertes[\"Muertes\"] / muertes[\"Nacimientos\"]\n",
    "\n",
    "# Extraer los datos de la clínica1 y asignarlos a 'muertes1'; extraer los datos de la clínica2 y asignarlos a 'muertes2'.\n",
    "muertes1 = muertes[muertes[\"Clínica\"] == 1]\n",
    "muertes2 = muertes[muertes[\"Clínica\"] == 2]\n",
    "\n",
    "# Ver los primeros datos de muertes1 usando el método head\n",
    "muertes1.head()"
   ]
  },
  {
   "cell_type": "code",
   "execution_count": null,
   "metadata": {
    "collapsed": false
   },
   "outputs": [],
   "source": [
    "# Ver los últimos datos de muertes2 usando el método tail\n",
    "muertes2.tail()"
   ]
  },
  {
   "cell_type": "markdown",
   "metadata": {},
   "source": [
    "# 3. Muerte en la clínica\n",
    "Si representamos la proporción de muertes en cada clínica, se observa un patrón interesante."
   ]
  },
  {
   "cell_type": "code",
   "execution_count": null,
   "metadata": {
    "collapsed": false
   },
   "outputs": [],
   "source": [
    "# El plot aparece en el cuaderno\n",
    "%matplotlib inline\n",
    "\n",
    "# Representar en una figura la proporción de muertes en las dos clínicas\n",
    "ax = muertes1.plot(x = \"Año\", y= \"Prop_muertes\", label = \"clinica 1\", color = \"steelblue\", linewidth = 1.5)\n",
    "muertes2.plot(x = \"Año\", y= \"Prop_muertes\", label = \"clinica 2\", color = \"darkorange\", linewidth = 1.5, ax = ax)\n",
    "ax.set_ylabel(\"% muertes / nacimientos\")"
   ]
  },
  {
   "cell_type": "markdown",
   "metadata": {},
   "source": [
    "# 4. A lavarse las manos\n",
    "¿ Por qué la proporción de muertes es tan elevada en la clínica 1? Semmelweis encontró el mismo patrón y quedo desconcertado. \n",
    "La única diferencia entre las clínicas era que en la clínica 1 trabajaban mayoritariamente estudiantes de medicina y en \n",
    "la clínica 2 matronas. Mientras éstas se dedicaban esencialmente a ayudar a las mujeres durante el parto, los estudiantes de medicina\n",
    "pasaban también tiempo en la sala de autopsias examinando cuerpos.  \n",
    "  \n",
    "Semmelweis comenzó a sospechar que 'algo' desde los cuerpos de los fallecidos se extendía a las manos de los estudiantes \n",
    "provocando la sepsis puerperal. Así, en un intento deseperado de detener la tasa de mortalidad tan elevada dió la orden: \n",
    "    ¡Lavaros las manos!  \n",
    "    \n",
    "En ese momento, nadie en toda Viena tiene aún conocimiento ni ha escuchado nada sobre bacterias, de modo que su orden se entendió \n",
    "como una extravagancia controvertida. \n",
    "  \n",
    "Veamos los datos clínicos mensuales para analizar si el lavado de manos tiene algún efecto."
   ]
  },
  {
   "cell_type": "code",
   "execution_count": null,
   "metadata": {
    "collapsed": false
   },
   "outputs": [],
   "source": [
    "# Leer el dataset muertes_xmes.csv y asignarlo a la variable mensual\n",
    "mensual = pd.read_csv('../datos_ejemplo/muertes_xmes.csv', parse_dates=[\"Fecha\"])"
   ]
  },
  {
   "cell_type": "code",
   "execution_count": null,
   "metadata": {
    "collapsed": false
   },
   "outputs": [],
   "source": [
    "# Extraer nombre de las columnas del dataset\n",
    "mensual.columns"
   ]
  },
  {
   "cell_type": "code",
   "execution_count": null,
   "metadata": {
    "collapsed": false
   },
   "outputs": [],
   "source": [
    "# Dimensiones del dataset\n",
    "mensual.shape"
   ]
  },
  {
   "cell_type": "code",
   "execution_count": null,
   "metadata": {
    "collapsed": false
   },
   "outputs": [],
   "source": [
    "# Calcular la proporción de las muertes / nacimientos\n",
    "mensual[\"Prop_muertes\"] = mensual[\"Muertes\"] / mensual[\"Nacimientos\"]\n",
    "\n",
    "# Imprimir las primeras columnas de mensual \n",
    "mensual.head()"
   ]
  },
  {
   "cell_type": "markdown",
   "metadata": {},
   "source": [
    "# 5. El efecto del lavado de manos\n",
    "Ahora podemos observar la proporción de muertes a lo largo del tiempo. En la figura siguiente no está representado el momento en el que se da la orden de lavarse las manos pero la proporción de muertes se reduce de tal forma que debería estar claro."
   ]
  },
  {
   "cell_type": "code",
   "execution_count": null,
   "metadata": {
    "collapsed": false
   },
   "outputs": [],
   "source": [
    "# Representar en una figura la proporción de muertes mensual\n",
    "ax = mensual.plot(x = \"Fecha\", y= \"Prop_muertes\", label = \"Proporción de muertes\")\n",
    "ax.grid() # añade ejes secundarios"
   ]
  },
  {
   "cell_type": "markdown",
   "metadata": {},
   "source": [
    "# 6. El efecto del lavado de manos destacado\n",
    "A partir del verano de 1847 la proporción de muertes se reduce considerabalemente y ya no aumenta. Sí, es entonces, cuando  \n",
    "Semmelweis obligó al personal a lavarse las manos. El efecto es aún más claro si los destacamos en la figura."
   ]
  },
  {
   "cell_type": "code",
   "execution_count": null,
   "metadata": {
    "collapsed": false
   },
   "outputs": [],
   "source": [
    "# Fecha cuando el lavado de manos se vuelve obligatorio\n",
    "#import pandas as pd\n",
    "empieza_lavado_manos = pd.to_datetime('1847-06-01')\n",
    "\n",
    "# Dividir 'mensual' entre \"antes y después\" de que se haga obligatorio el lavado de manos\n",
    "ind = mensual.index[mensual['Fecha'] == empieza_lavado_manos].tolist()\n",
    "antes_lavado  = mensual.iloc[0:ind[0],]\n",
    "despues_lavado = mensual.iloc[ind[0]:,]\n",
    "\n",
    "# Plot monthly proportion of deaths before and after handwashing\n",
    "%matplotlib inline\n",
    "ax = antes_lavado.plot(x = \"Fecha\", y= \"Prop_muertes\", title = \"Antes\",  legend = False, \n",
    "                       color = \"steelblue\", linewidth = 1.5)\n",
    "ax.set_ylabel(\"% muertes / nacimientos\")\n",
    "ax.grid()\n",
    "bx = despues_lavado.plot(x = \"Fecha\", y= \"Prop_muertes\", title = \"Despues\",  legend = False, \n",
    "                         color = \"darkorange\", linewidth = 1.5)\n",
    "bx.set_ylim(0, 0.35)\n",
    "bx.grid()\n",
    "# falta poner los 2 plots en el la misma linea!"
   ]
  },
  {
   "cell_type": "markdown",
   "metadata": {},
   "source": [
    "## 7. ¿Hay realmente menos muertes tras el lavado de manos?\n",
    "De nuevo, vemos que en la figura se observa el gran efecto que tuvo el lavado de manos. Pero, vayamos a cuantificarlo. Por ejemplo, ¿cúanto se redujo la mortalidad mensual de media?\n"
   ]
  },
  {
   "cell_type": "code",
   "execution_count": null,
   "metadata": {
    "collapsed": false
   },
   "outputs": [],
   "source": [
    "# Diferencia en la proporción muertes mensual debidas al lavado de manos\n",
    "antes_prop = antes_lavado['Prop_muertes']\n",
    "despues_prop = despues_lavado['Prop_muertes']\n",
    "media_dif = despues_prop.mean() - antes_prop.mean()\n",
    "media_dif"
   ]
  },
  {
   "cell_type": "markdown",
   "metadata": {},
   "source": [
    "## 8. Bootstrap analisis\n",
    "¡El lavado de manos redujo la proporción de muertes sobre 8 puntos porcentuales! El resultado es que las muertes pasan de 10% de media a sólo 2% (lo que por otra parte sigue considerándose elevado para el estándar moderno, sobre todo en los países [desarrollados](http://apps.who.int/iris/bitstream/10665/204114/1/WHO_RHR_15.23_spa.pdf?ua=1)). \n",
    "Para tener idea de la 'incertidumbre' que rodea a ese valor medio (cúanto se reduce la mortalidad de la madre durante el parto) podemos estimar el intervalo de confianza (aquí lo calcularemos mediante el método bootstrap)."
   ]
  },
  {
   "cell_type": "code",
   "execution_count": null,
   "metadata": {
    "collapsed": false
   },
   "outputs": [],
   "source": [
    "# Bootstrap analisis de la reducción de muertes debida al lavado de manos\n",
    "boot_media_dif = []\n",
    "for i in range(3000):\n",
    "    boot_antes = antes_prop.sample(frac=1, replace = True)\n",
    "    boot_despues = despues_prop.sample(frac=1, replace = True)\n",
    "    boot_media_dif.append( boot_despues.mean() - boot_antes.mean() )\n",
    "\n",
    "# Calculating a 95% confidence interval from boot_mean_diff \n",
    "intervalo_confidencia = pd.Series(boot_media_dif).quantile([0.025,0.975])\n",
    "intervalo_confidencia"
   ]
  },
  {
   "cell_type": "markdown",
   "metadata": {},
   "source": [
    "## 9. El destino del Dr. Semmelweis\n",
    "Con un intervalo de confianza del 95% podemos afirmar que el lavado de manos en el Hospital General de Viena redujo\n",
    "la muertes entre 6.7%-10. Visto en conjunto, parece que Semmelweiss encontró la evidencia sólida de que un \n",
    "procedimiento sencillo pero muy efectivo como era 'lavarse las manos' podía salvar muchas vidas.\n",
    "La tragedia es que a pesar de esta evidencia, la teoría de Semmelweiss, a saber que la 'fiebre del parto' estaba provocada por alguna 'sustancia' (bacterias) de \n",
    "los cuerpos de la sala de autopsias), fue ridiculizada por sus colegas contemporáneos. La comunidad médica \n",
    "mayoritariamente rechazó su descubrimiento y en 1849 se le obligó a abandonar el Hospital General. La estadística y \n",
    "los argumentos estadísticos no eran comunes en ese momento en Medicina. Semmelweiss sólo publicó sus datos en largas \n",
    "tablas de datos crudos (como las que hemos usado en este ejercicio) pero no mostró ningún gráfico o figura ni estimó \n",
    "los intervalos de confianza. \n",
    "\n",
    "De haber tenido acceso a un Python notebook, quizás hubiera tenido más éxito a la hora de convencer a sus colegas \n",
    "de Viena de la imprtancia de lavarse las manos."
   ]
  },
  {
   "cell_type": "code",
   "execution_count": null,
   "metadata": {
    "collapsed": true
   },
   "outputs": [],
   "source": [
    "# Los datos de Semmelweis demuestran que (Verdadero o Falso?):\n",
    "medicos_deben_lavarse_las_manos = True\n",
    "if medicos_deben_lavarse_las_manos:\n",
    "    print('Los médicos deben lavarse las manos')\n",
    "else:\n",
    "    print('No es necesario que los médicos se laven las manos')"
   ]
  }
 ],
 "metadata": {
  "kernelspec": {
   "display_name": "Python 3",
   "language": "python",
   "name": "python3"
  },
  "language_info": {
   "codemirror_mode": {
    "name": "ipython",
    "version": 3
   },
   "file_extension": ".py",
   "mimetype": "text/x-python",
   "name": "python",
   "nbconvert_exporter": "python",
   "pygments_lexer": "ipython3",
   "version": "3.12.2"
  }
 },
 "nbformat": 4,
 "nbformat_minor": 2
}
